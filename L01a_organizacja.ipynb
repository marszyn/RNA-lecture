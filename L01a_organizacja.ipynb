{
 "cells": [
  {
   "cell_type": "markdown",
   "metadata": {},
   "source": [
    "# Harmonogram zaj─Ö─ç\n",
    "\n",
    "1. (24.02)\tOrganizacja zaj─Ö─ç, python, biopython\n",
    "2. (2.03)   Bazy danych\n",
    "3. (9.03)\tKlasyfikacja RNA\n",
    "4. (23.03)\tPrzewidywanie struktur drugorz─Ödowych\n",
    "5. (30.03)\tOddzia┼éywania niekanoniczne\n",
    "6. (6.04)\tPrzewidywanie motyw├│w\n",
    "7. (13.04)\tModelowanie struktur przestrzennych, metody ewolucyjne\n",
    "8. (20.04)\tModelowanie oparte na fragmentach\n",
    "9. (27.04)\tModelowanie fizyczne; realizacja projekt├│w ÔÇô raport pierwszy\n",
    "10. (4.05)\tModyfikacje potranskrypcyjne\n",
    "11. (11.05)\tOddzia┼éywania mi─Ödzycz─ůsteczkowe\n",
    "12. (18.05)\tNiekoduj─ůce RNA, realizacja projekt├│w - raport drugi\n",
    "13. (25.05)\tMetabolizm RNA\n",
    "14. (1.06)\tRNA w medycynie\n",
    "15. (8.06)\tOtwarte wyzwania, prezentacje projekt├│w\n"
   ]
  },
  {
   "cell_type": "markdown",
   "metadata": {},
   "source": [
    "# Sprawy organizacyjne #\n",
    "\n",
    "- Prowadz─ůcy: dr Jacek ┼Ümieta┼äski \n",
    "- jacek.smietanski@uj.edu.pl\n",
    "- pok├│j 2163, konsultacje: czw 10-12.\n",
    "\n",
    "- Strona przedmiotu: [jaceksmietanski.net/bio-RNA](http://jaceksmietanski.net/bs)\n",
    "- Wi─Ökszo┼Ť─ç materia┼é├│w udost─Öpniam w formacie iPython Notebook na [koncie github](https://github.com/dadoskawina/bio-RNA)\n",
    "\n",
    "- Na pewno nie unikn─Ö b┼é─Öd├│w w materia┼éach, dlatego gor─ůco zach─Öcam do zg┼éaszania poprawek na githubie (fork + pull request)"
   ]
  },
  {
   "cell_type": "markdown",
   "metadata": {},
   "source": [
    "# Zasady zaliczenia #\n",
    "\n",
    "**Punktacja**\n",
    "\n",
    "- projekty (60 pkt)\n",
    "- egzamin (40 pkt)\n",
    "- aktywno┼Ť─ç na zaj─Öciach (punkty bez ogranicze┼ä)"
   ]
  },
  {
   "cell_type": "markdown",
   "metadata": {},
   "source": [
    "**Projekty:** obowi─ůzkowe, realizowane indywidualnie. Poni┼╝ej przedstawiam list─Ö temat├│w do wyboru (realizujemy tylko projekty z listy). Prosz─Ö zapozna─ç si─Ö z propozycjami i w ci─ůgu najbli┼╝szych dw├│ch tygodni (najp├│┼║niej na zaj─Öciach 9.03.2016) zadeklarowa─ç wybrany temat.\n",
    "Jeden temat mo┼╝e by─ç realizowany co najwy┼╝ej przez jedn─ů osob─Ö/par─Ö. Dlatego ka┼╝dy wyb├│r wymaga mojej akceptacji ÔÇô decyduje kolejno┼Ť─ç zg┼éosze┼ä.\n",
    "\n",
    "Projekty nale┼╝y realizowa─ç w pythonie 3. Dla projektu prosz─Ö za┼éo┼╝y─ç publiczne repozytorium na githubie. Repozytorium to prosz─Ö na uzupe┼énia─ç bie┼╝─ůco przez ca┼éy okres realizacji projektu.\n",
    "Link do repozytorium nale┼╝y mi przes┼éa─ç mailem w ci─ůgu tygodnia od akceptacji wybranego tematu (najp├│┼║niej do 16.03.2016).\n",
    "\n",
    "Laboratoria nr 7 i 12 b─Öd─ů w ca┼éo┼Ťci po┼Ťwi─Öcone realizacji projekt├│w. Na ostatnich zaj─Öciach b─Ödzie obrona projekt├│w na forum grupy. Te zaj─Öcia (7, 12, ostatnie) s─ů bezwzgl─Ödnie obowi─ůzkowe.\n",
    "\n",
    "Obrona projekt├│w przewidziana jest na dzie┼ä 1.06.2016.\n",
    "\n",
    "**Pierwsza prezentacja projektu (laboratorium nr. 7).**\n",
    "Nale┼╝y przedstawi─ç na forum grupy za┼éo┼╝enia i cele projektu ze szczeg├│lnym wskazaniem na konkretne zadania, kt├│re trzeba b─Ödzie wykona─ç ÔÇô prosz─Ö om├│wi─ç z┼éo┼╝ono┼Ť─ç ka┼╝dego podzadania, plany realizacji oraz zidentyfikowa─ç potencjalne przeszkody.\n",
    "Na tym etapie realizacji projektu student/zesp├│┼é powinien mie─ç pe┼én─ů wiedz─Ö na temat postawionego zadania i konkretny plan jego realizacji ÔÇô podzia┼é na podzadania, identyfikacja r├│l poszczeg├│lnych cz┼éonk├│w zespo┼éu, oszacowanie z┼éo┼╝ono┼Ťci i czasoch┼éonno┼Ťci poszczeg├│lnych podzada┼ä, identyfikacja ÔÇ×w─ůskich garde┼éÔÇŁ i potencjalnych problem├│w jakie mog─ů pojawi─ç si─Ö w trakcie realizacji. Nie jest wymagany formalny diagram Gantta, aczkolwiek b─Ödzie on mile widziany.\n",
    "Na tym etapie nie s─ů wymagane implementacje, ale je┼╝eli student/zesp├│┼é ju┼╝ co┼Ť oprogramowa┼é, przeprowadzi┼é testy itp., warto si─Ö tym pochwali─ç.\n",
    "Czas na prezentacj─Ö b─Ödzie odwrotnie proporcjonalny do liczby projekt├│w realizowanych w trakcie kursu i zostanie podany na zaj─Öciach wcze┼Ťniejszych. Podanego czasu nie wolno przekracza─ç.\n",
    "\n",
    "**Druga prezentacja projektu (laboratorium nr. 12).**\n",
    "Na tym etapie implementacja projektu powinna by─ç ju┼╝ w fazie zaawansowanej. Idealnie, implementacja algorytm├│w powinna by─ç ju┼╝ zako┼äczona, by zesp├│┼é projektowy mia┼é jeszcze wystarczaj─ůco du┼╝o czasu na przeprowadzenie kompleksowych test├│w, wprowadzenie ewentualnych poprawek i przygotowanie dokumentacji.\n",
    "Prezentacja b─Ödzie na forum grupy, dost─Öpny czas identyczny jak przy pierwszej iteracji. W trakcie prezentacji nale┼╝y pokaza─ç kody ┼║r├│d┼éowe i om├│wi─ç kluczowe aspekty implementacji. Je┼╝eli to b─Ödzie mo┼╝liwe, prosz─Ö uruchomi─ç projekt, pokaza─ç i om├│wi─ç output. Prosz─Ö przedstawi─ç plany test├│w (┼║r├│d┼éa danych testowych; czy jest ich wystarczaj─ůco du┼╝o i czy s─ů wystarczaj─ůco r├│┼╝norodne?), plan weryfikacji jako┼Ťci algorytmu i poprawno┼Ťci implementacji.\n",
    "Warto w trakcie prezentacji odnie┼Ť─ç si─Ö r├│wnie┼╝ do napotkanych problem├│w ÔÇô wskaza─ç aspekty, kt├│re przez d┼éu┼╝szy czas sp─Ödza┼éy grupie projektowej sen z powiek, przedstawi─ç pr├│by rozwi─ůzania (r├│wnie┼╝ te nieudane).\n",
    "\n",
    "**Obrona projektu (8.06.2016)**\n",
    "Najp├│┼║niej w przeddzie┼ä obrony projektu (tj do 7.06.2016) prosz─Ö przes┼éa─ç mi maila z informacj─ů, ┼╝e projekt jest ju┼╝ domkni─Öty. Przypominam, ┼╝e wszelka dokumentacja, dane i kody ┼║r├│d┼éowe, na bie┼╝─ůco powinny by─ç deponowane w repozytorium. W szczeg├│lno┼Ťci w chwili wys┼éania do mnie informacji, repozytorium powinno by─ç kompletne, zawieraj─ůce najnowsze wersje skrypt├│w, dokumentacji i danych. Je┼╝eli z jakiego┼Ť powodu umieszczenie istotnych danych w repozytorium by┼éo niemo┼╝liwe lub niecelowe, prosz─Ö te dane do┼é─ůczy─ç do maila lub udost─Öpni─ç w inny spos├│b. Po przes┼éaniu informacji o zamkni─Öciu projektu, prosz─Ö ju┼╝ nie dokonywa─ç w nim ┼╝adnych zmian.\n",
    "\n",
    "Obrona odb─Ödzie si─Ö na forum grupy, czas na prezentacj─Ö: 15 minut. W czasie prezentacji prosz─Ö pokaza─ç dzia┼éanie programu, om├│wi─ç jego u┼╝ycie i otrzymywany output. Istotn─ů cz─Ö┼Ť─ç prezentacji prosz─Ö po┼Ťwi─Öci─ç na om├│wienie przeprowadzonych test├│w i ich rezultat├│w. Prosz─Ö wykaza─ç zgodno┼Ť─ç projektu z za┼éo┼╝eniami (lub wypunktowa─ç i uzasadni─ç odst─Öpstwa).\n",
    "\n",
    "Do obrony nale┼╝y przyst─ůpi─ç niezale┼╝nie od stanu realizacji projektu (nawet je┼╝eli nie zosta┼é on doko┼äczony). Istnieje mo┼╝liwo┼Ť─ç doko┼äczenia projektu w terminie p├│┼║niejszym (do 24.06.2016), ale nale┼╝y w├│wczas liczy─ç si─Ö z obni┼╝eniem punktacji (od uzyskanej sumy punkt├│w odejmuj─Ö 15 pkt (ostateczny wynik mo┼╝e by─ç ujemny!!!)).\n",
    "\n",
    "W ocenie projektu uwzgl─Ödniane b─Öd─ů nast─Öpuj─ůce aspekty:\n",
    "\n",
    "-\tpierwsza prezentacja (zaawansowanie prac, udost─Öpnione materia┼éy, przebieg prezentacji)\n",
    "-\tdruga prezentacja (zaawansowanie prac, udost─Öpnione materia┼éy, przebieg prezentacji)\n",
    "-\tobrona\n",
    "-\timplementacja\n",
    "-\tdokumentacja\n",
    "-   testowanie poprawno┼Ťci implementacji\n",
    "-\twalidacja algorytmu\n",
    "\n",
    "Uwagi:\n",
    "\n",
    "- Zmiana wybranego tematu b─ůd┼║ sk┼éadu zespo┼éu realizuj─ůcego projekt, mo┼╝liwa jest jedynie do 23.03.2016. \n",
    "- Ewentualne modyfikacje oczekiwanego zakresu prac (wy┼é─ůcznie w sytuacjach uzasadnionych) wymagaj─ů indywidualnych ustale┼ä i mojej akceptacji. Zmiany takie nie b─Öd─ů akceptowane, je┼╝eli wniosek zostanie zg┼éoszony zbyt p├│┼║no (np. na tydzie┼ä przed planowan─ů obron─ů).\n",
    "- Na ka┼╝dym etapie realizacji projektu maj─ů Pa┼ästwo mo┼╝liwo┼Ť─ç indywidualnych konsultacji. Prosz─Ö z tej mo┼╝liwo┼Ťci korzysta─ç, zw┼éaszcza w przypadku pojawienia si─Ö problem├│w lub w─ůtpliwo┼Ťci.\n",
    "- W przypadku przesuni─Öcia b─ůd┼║ odwo┼éania kt├│ry┼Ť zaj─Ö─ç, podane wy┼╝ej daty poszczeg├│lnych prezentacji i obrony mog─ů ulec przesuni─Öciu o tydzie┼ä lub dwa do przodu."
   ]
  },
  {
   "cell_type": "markdown",
   "metadata": {},
   "source": [
    "**Egzamin:**\n",
    "\n",
    "30 pyta┼ä testowych (test jednokrotnego wyboru) oraz dwa pytania otwarte (2\\*5 pkt).\n",
    "\n",
    "Egzamin odb─Ödzie si─Ö pomi─Ödzy dniem obrony projekt├│w a 24.06.2016. Konkretny termin egzaminu zostanie ustalony w porozumieniu z obecnymi na zaj─Öciach uczestnikami kursu, w ko┼äcowej cz─Ö┼Ťci semestru. B─Ödzie to jedyny termin obowi─ůzkowy dla wszystkich. Egzamin trwa─ç b─Ödzie ok. 45-60 min (w zale┼╝no┼Ťci od z┼éo┼╝ono┼Ťci pyta┼ä otwartych).\n",
    "\n",
    "W razie potrzeby wyznaczony zostanie drugi termin egzaminu w sesji poprawkowej (tj. w okresie od 1.09.2016 do 15.09.2016). Termin zostanie ustalony bezpo┼Ťrednio z osobami zainteresowanymi po og┼éoszeniu wynik├│w egzaminu w terminie pierwszym.\n",
    "W przypadku ma┼éej liczby os├│b ch─Ötnych do zdawania egzaminu w drugim terminie, egzamin w tym terminie b─Ödzie realizowany w formie odpowiedzi ustnej.  \n",
    "\n",
    "Uwaga:\n",
    "Egzamin poprawkowy zmienia punktacj─Ö wy┼é─ůcznie w zakresie obj─Ötym egzaminem. W szczeg├│lno┼Ťci nie ma mo┼╝liwo┼Ťci zwi─Ökszenia liczby punkt├│w otrzymanych w ramach laboratorium (projekty, aktywno┼Ť─ç). W przypadku zbyt ma┼éej liczby punkt├│w z laboratorium (na kt├│r─ů pracujemy systematycznie przez ca┼éy semestr), nawet bardzo dobry wynik egzaminu nie gwarantuje oceny pozytywnej z przedmiotu."
   ]
  },
  {
   "cell_type": "markdown",
   "metadata": {},
   "source": [
    "### Ocena:###\n",
    "\n",
    "Na podstawie sumy punkt├│w zdobytych ┼é─ůcznie w ramach laboratori├│w (zadania, projekty, aktywno┼Ť─ç) oraz egzaminu.\n",
    "\n",
    "- 91 i wi─Öcej pkt: **5.0 bdb**\n",
    "- 81 ÔÇô 90 pkt: **4.5 +db**\n",
    "- 71 ÔÇô 80 pkt: **4.0 db**\n",
    "- 61 ÔÇô 70 pkt: **3.5 +dst**\n",
    "- 51 ÔÇô 60 pkt: **3.0 dst**\n",
    "- 0 ÔÇô 50 pkt: **2.0 ndst**\n",
    "\n",
    "Warunkami otrzymania oceny pozytywnej s─ů (┼é─ůcznie): zdobycie w sumie co najmniej 51 pkt, pozytywna obrona projektu (zako┼äczona akceptacj─ů prowadz─ůcego, bez wzgl─Ödu na liczb─Ö zdobytych punkt├│w) oraz przyst─ůpienie do egzaminu (oddanie podpisanej pracy egzaminacyjnej, bez wzgl─Ödu na jego wynik)."
   ]
  },
  {
   "cell_type": "markdown",
   "metadata": {},
   "source": [
    "**Obecno┼Ťci:**\n",
    "Uczestnictwo w zaj─Öciach zwi─ůzanych z projektami (laboratoria 7, 12 i ostatnie) jest obowi─ůzkowe (ka┼╝da nieusprawiedliwiona nieobecno┼Ť─ç skutkuje obni┼╝eniem oceny projektu o 15pkt)."
   ]
  },
  {
   "cell_type": "code",
   "execution_count": null,
   "metadata": {},
   "outputs": [],
   "source": [
    ""
   ]
  }
 ],
 "metadata": {
  "kernelspec": {
   "display_name": "Python 3",
   "language": "python",
   "name": "python3"
  },
  "language_info": {
   "codemirror_mode": {
    "name": "ipython",
    "version": 3.0
   },
   "file_extension": ".py",
   "mimetype": "text/x-python",
   "name": "python",
   "nbconvert_exporter": "python",
   "pygments_lexer": "ipython3",
   "version": "3.4.1"
  }
 },
 "nbformat": 4,
 "nbformat_minor": 0
}
