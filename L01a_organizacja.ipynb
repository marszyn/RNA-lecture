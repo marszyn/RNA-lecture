{
 "cells": [
  {
   "cell_type": "markdown",
   "metadata": {},
   "source": [
    "# Harmonogram zajęć\n",
    "\n",
    "1. (24.02)\tOrganizacja zajęć, python, biopython\n",
    "2. (2.03)   Bazy danych\n",
    "3. (9.03)\tKlasyfikacja RNA\n",
    "4. (23.03)\tPrzewidywanie struktur drugorzędowych\n",
    "5. (30.03)\tOddziaływania niekanoniczne\n",
    "6. (6.04)\tPrzewidywanie motywów\n",
    "7. (13.04)\tModelowanie struktur przestrzennych, metody ewolucyjne\n",
    "8. (20.04)\tModelowanie oparte na fragmentach\n",
    "9. (27.04)\tModelowanie fizyczne; realizacja projektów – raport pierwszy\n",
    "10. (4.05)\tModyfikacje potranskrypcyjne\n",
    "11. (11.05)\tOddziaływania międzycząsteczkowe\n",
    "12. (18.05)\tNiekodujące RNA, realizacja projektów - raport drugi\n",
    "13. (25.05)\tMetabolizm RNA\n",
    "14. (1.06)\tRNA w medycynie\n",
    "15. (8.06)\tOtwarte wyzwania, prezentacje projektów\n"
   ]
  },
  {
   "cell_type": "markdown",
   "metadata": {},
   "source": [
    "# Sprawy organizacyjne #\n",
    "\n",
    "- Prowadzący: dr Jacek Śmietański \n",
    "- jacek.smietanski@uj.edu.pl\n",
    "- pokój 2163, konsultacje: czw 10-12.\n",
    "\n",
    "- Strona przedmiotu: [jaceksmietanski.net/bs](http://jaceksmietanski.net/bs)\n",
    "- Większość materiałów udostępniam w formacie iPython Notebook na [koncie github](https://github.com/dadoskawina/RNA-lecture)\n",
    "\n",
    "- Na pewno nie uniknę błędów w materiałach, dlatego gorąco zachęcam do zgłaszania poprawek na githubie (fork + pull request)"
   ]
  },
  {
   "cell_type": "markdown",
   "metadata": {},
   "source": [
    "# Zasady zaliczenia #\n",
    "\n",
    "**Punktacja**\n",
    "\n",
    "- projekty (60 pkt)\n",
    "- egzamin (40 pkt)\n",
    "- aktywność na zajęciach (punkty bez ograniczeń)"
   ]
  },
  {
   "cell_type": "markdown",
   "metadata": {},
   "source": [
    "**Projekty:** obowiązkowe, realizowane indywidualnie. Poniżej przedstawiam listę tematów do wyboru (realizujemy tylko projekty z listy). Proszę zapoznać się z propozycjami i w ciągu najbliższych dwóch tygodni (najpóźniej na zajęciach 9.03.2016) zadeklarować wybrany temat.\n",
    "Jeden temat może być realizowany co najwyżej przez jedną osobę/parę. Dlatego każdy wybór wymaga mojej akceptacji – decyduje kolejność zgłoszeń.\n",
    "\n",
    "Projekty należy realizować w pythonie 3. Dla projektu proszę założyć publiczne repozytorium na githubie. Repozytorium to proszę na uzupełniać bieżąco przez cały okres realizacji projektu.\n",
    "Link do repozytorium należy mi przesłać mailem w ciągu tygodnia od akceptacji wybranego tematu (najpóźniej do 16.03.2016).\n",
    "\n",
    "Laboratoria nr 7 i 12 będą w całości poświęcone realizacji projektów. Na ostatnich zajęciach będzie obrona projektów na forum grupy. Te zajęcia (7, 12, ostatnie) są bezwzględnie obowiązkowe.\n",
    "\n",
    "Obrona projektów przewidziana jest na dzień 1.06.2016.\n",
    "\n",
    "**Pierwsza prezentacja projektu (laboratorium nr. 7).**\n",
    "Należy przedstawić na forum grupy założenia i cele projektu ze szczególnym wskazaniem na konkretne zadania, które trzeba będzie wykonać – proszę omówić złożoność każdego podzadania, plany realizacji oraz zidentyfikować potencjalne przeszkody.\n",
    "Na tym etapie realizacji projektu student/zespół powinien mieć pełną wiedzę na temat postawionego zadania i konkretny plan jego realizacji – podział na podzadania, identyfikacja ról poszczególnych członków zespołu, oszacowanie złożoności i czasochłonności poszczególnych podzadań, identyfikacja „wąskich gardeł” i potencjalnych problemów jakie mogą pojawić się w trakcie realizacji. Nie jest wymagany formalny diagram Gantta, aczkolwiek będzie on mile widziany.\n",
    "Na tym etapie nie są wymagane implementacje, ale jeżeli student/zespół już coś oprogramował, przeprowadził testy itp., warto się tym pochwalić.\n",
    "Czas na prezentację będzie odwrotnie proporcjonalny do liczby projektów realizowanych w trakcie kursu i zostanie podany na zajęciach wcześniejszych. Podanego czasu nie wolno przekraczać.\n",
    "\n",
    "**Druga prezentacja projektu (laboratorium nr. 12).**\n",
    "Na tym etapie implementacja projektu powinna być już w fazie zaawansowanej. Idealnie, implementacja algorytmów powinna być już zakończona, by zespół projektowy miał jeszcze wystarczająco dużo czasu na przeprowadzenie kompleksowych testów, wprowadzenie ewentualnych poprawek i przygotowanie dokumentacji.\n",
    "Prezentacja będzie na forum grupy, dostępny czas identyczny jak przy pierwszej iteracji. W trakcie prezentacji należy pokazać kody źródłowe i omówić kluczowe aspekty implementacji. Jeżeli to będzie możliwe, proszę uruchomić projekt, pokazać i omówić output. Proszę przedstawić plany testów (źródła danych testowych; czy jest ich wystarczająco dużo i czy są wystarczająco różnorodne?), plan weryfikacji jakości algorytmu i poprawności implementacji.\n",
    "Warto w trakcie prezentacji odnieść się również do napotkanych problemów – wskazać aspekty, które przez dłuższy czas spędzały grupie projektowej sen z powiek, przedstawić próby rozwiązania (również te nieudane).\n",
    "\n",
    "**Obrona projektu (8.06.2016)**\n",
    "Najpóźniej w przeddzień obrony projektu (tj do 7.06.2016) proszę przesłać mi maila z informacją, że projekt jest już domknięty. Przypominam, że wszelka dokumentacja, dane i kody źródłowe, na bieżąco powinny być deponowane w repozytorium. W szczególności w chwili wysłania do mnie informacji, repozytorium powinno być kompletne, zawierające najnowsze wersje skryptów, dokumentacji i danych. Jeżeli z jakiegoś powodu umieszczenie istotnych danych w repozytorium było niemożliwe lub niecelowe, proszę te dane dołączyć do maila lub udostępnić w inny sposób. Po przesłaniu informacji o zamknięciu projektu, proszę już nie dokonywać w nim żadnych zmian.\n",
    "\n",
    "Obrona odbędzie się na forum grupy, czas na prezentację: 15 minut. W czasie prezentacji proszę pokazać działanie programu, omówić jego użycie i otrzymywany output. Istotną część prezentacji proszę poświęcić na omówienie przeprowadzonych testów i ich rezultatów. Proszę wykazać zgodność projektu z założeniami (lub wypunktować i uzasadnić odstępstwa).\n",
    "\n",
    "Do obrony należy przystąpić niezależnie od stanu realizacji projektu (nawet jeżeli nie został on dokończony). Istnieje możliwość dokończenia projektu w terminie późniejszym (do 24.06.2016), ale należy wówczas liczyć się z obniżeniem punktacji (od uzyskanej sumy punktów odejmuję 15 pkt (ostateczny wynik może być ujemny!!!)).\n",
    "\n",
    "W ocenie projektu uwzględniane będą następujące aspekty:\n",
    "\n",
    "-\tpierwsza prezentacja (zaawansowanie prac, udostępnione materiały, przebieg prezentacji)\n",
    "-\tdruga prezentacja (zaawansowanie prac, udostępnione materiały, przebieg prezentacji)\n",
    "-\tobrona\n",
    "-\timplementacja\n",
    "-\tdokumentacja\n",
    "-   testowanie poprawności implementacji\n",
    "-\twalidacja algorytmu\n",
    "\n",
    "Uwagi:\n",
    "\n",
    "- Zmiana wybranego tematu bądź składu zespołu realizującego projekt, możliwa jest jedynie do 23.03.2016. \n",
    "- Ewentualne modyfikacje oczekiwanego zakresu prac (wyłącznie w sytuacjach uzasadnionych) wymagają indywidualnych ustaleń i mojej akceptacji. Zmiany takie nie będą akceptowane, jeżeli wniosek zostanie zgłoszony zbyt późno (np. na tydzień przed planowaną obroną).\n",
    "- Na każdym etapie realizacji projektu mają Państwo możliwość indywidualnych konsultacji. Proszę z tej możliwości korzystać, zwłaszcza w przypadku pojawienia się problemów lub wątpliwości.\n",
    "- W przypadku przesunięcia bądź odwołania któryś zajęć, podane wyżej daty poszczególnych prezentacji i obrony mogą ulec przesunięciu o tydzień lub dwa do przodu."
   ]
  },
  {
   "cell_type": "markdown",
   "metadata": {},
   "source": [
    "**Egzamin:**\n",
    "\n",
    "30 pytań testowych (test jednokrotnego wyboru) oraz dwa pytania otwarte (2\\*5 pkt).\n",
    "\n",
    "Egzamin odbędzie się pomiędzy dniem obrony projektów a 24.06.2016. Konkretny termin egzaminu zostanie ustalony w porozumieniu z obecnymi na zajęciach uczestnikami kursu, w końcowej części semestru. Będzie to jedyny termin obowiązkowy dla wszystkich. Egzamin trwać będzie ok. 45-60 min (w zależności od złożoności pytań otwartych).\n",
    "\n",
    "W razie potrzeby wyznaczony zostanie drugi termin egzaminu w sesji poprawkowej (tj. w okresie od 1.09.2016 do 15.09.2016). Termin zostanie ustalony bezpośrednio z osobami zainteresowanymi po ogłoszeniu wyników egzaminu w terminie pierwszym.\n",
    "W przypadku małej liczby osób chętnych do zdawania egzaminu w drugim terminie, egzamin w tym terminie będzie realizowany w formie odpowiedzi ustnej.  \n",
    "\n",
    "Uwaga:\n",
    "Egzamin poprawkowy zmienia punktację wyłącznie w zakresie objętym egzaminem. W szczególności nie ma możliwości zwiększenia liczby punktów otrzymanych w ramach laboratorium (projekty, aktywność). W przypadku zbyt małej liczby punktów z laboratorium (na którą pracujemy systematycznie przez cały semestr), nawet bardzo dobry wynik egzaminu nie gwarantuje oceny pozytywnej z przedmiotu."
   ]
  },
  {
   "cell_type": "markdown",
   "metadata": {},
   "source": [
    "### Ocena:###\n",
    "\n",
    "Na podstawie sumy punktów zdobytych łącznie w ramach laboratoriów (zadania, projekty, aktywność) oraz egzaminu.\n",
    "\n",
    "- 91 i więcej pkt: **5.0 bdb**\n",
    "- 81 – 90 pkt: **4.5 +db**\n",
    "- 71 – 80 pkt: **4.0 db**\n",
    "- 61 – 70 pkt: **3.5 +dst**\n",
    "- 51 – 60 pkt: **3.0 dst**\n",
    "- 0 – 50 pkt: **2.0 ndst**\n",
    "\n",
    "Warunkami otrzymania oceny pozytywnej są (łącznie): zdobycie w sumie co najmniej 51 pkt, pozytywna obrona projektu (zakończona akceptacją prowadzącego, bez względu na liczbę zdobytych punktów) oraz przystąpienie do egzaminu (oddanie podpisanej pracy egzaminacyjnej, bez względu na jego wynik)."
   ]
  },
  {
   "cell_type": "markdown",
   "metadata": {},
   "source": [
    "**Obecności:**\n",
    "Uczestnictwo w zajęciach związanych z projektami (laboratoria 7, 12 i ostatnie) jest obowiązkowe (każda nieusprawiedliwiona nieobecność skutkuje obniżeniem oceny projektu o 15pkt)."
   ]
  },
  {
   "cell_type": "code",
   "execution_count": null,
   "metadata": {},
   "outputs": [],
   "source": [
    ""
   ]
  }
 ],
 "metadata": {
  "kernelspec": {
   "display_name": "Python 3",
   "language": "python",
   "name": "python3"
  },
  "language_info": {
   "codemirror_mode": {
    "name": "ipython",
    "version": 3.0
   },
   "file_extension": ".py",
   "mimetype": "text/x-python",
   "name": "python",
   "nbconvert_exporter": "python",
   "pygments_lexer": "ipython3",
   "version": "3.4.1"
  }
 },
 "nbformat": 4,
 "nbformat_minor": 0
}
