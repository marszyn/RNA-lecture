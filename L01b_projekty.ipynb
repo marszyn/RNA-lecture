{
 "worksheets": [
  {
   "cells": [
    {
     "cell_type": "markdown",
     "metadata": {},
     "source": [
      "Tematy projektów do wyboru\n",
      "=========================="
     ]
    },
    {
     "cell_type": "markdown",
     "metadata": {},
     "source": [
      "**1. Dopasowanie i porównanie struktur drugorzędowych**\n",
      "\n",
      "Dla zbioru struktur drugorzędowych RNA nie zawierających pseudowęzłów, przedstawionych w notacji dot-brackets, odczytaj elementy struktury drugorzędowej w każdej sekwencji.\n",
      "\n",
      "Zaimplementuj algorytm dopasowania i wzajemnego porównania wszystkich struktur ze zbioru. Oszacuj stopień podobieństwa między strukturami."
     ]
    },
    {
     "cell_type": "markdown",
     "metadata": {},
     "source": [
      "**2. Reprezentacja grafowa i wizualizacja uproszczonych struktur drugorzędowych RNA**\n",
      "\n",
      "Napisz program, który dla zadanej pojedynczej struktury drugorzędowej RNA (notacja dot-brackets, dopuszczamy pseudowęzły), wygeneruje jej strukturę grafową.\n",
      "\n",
      "Zaimplementuj wizualizację takiej struktury. \n",
      "\n",
      "Dostępna jest wersja programu pomijająca pseudowęzły, która może posłużyć jako punkt wyjścia. Kluczowym aspektem jest obsługa pseudowęzłów i skomplikowanych struktur.\n"
     ]
    },
    {
     "cell_type": "markdown",
     "metadata": {},
     "source": [
      "**3. Klasyfikator pseudowęzłów**\n",
      "\n",
      "Napisz program, który dla zadanej na wejściu struktury drugorzędowej (zapis w formacie dot-brackets) zidentyfikuje pseudowęzły oraz określi ich klasyfikację.\n"
     ]
    },
    {
     "cell_type": "markdown",
     "metadata": {},
     "source": [
      "**4. Baza oddziaływań wewnątrzcząsteczkowych**\n",
      "\n",
      "Napisz program, który dla danego zbioru struktur uzyska informacje o klasyfikacji par przez FR3D, McAnnotate, RNAView i ClaRNA. Zaprojektuj bazę danych do przechowywania tych informacji."
     ]
    },
    {
     "cell_type": "markdown",
     "metadata": {},
     "source": [
      "**5. Baza tripletów**"
     ]
    },
    {
     "cell_type": "markdown",
     "metadata": {},
     "source": [
      "**6. Zbiór i ocena jakości i aktualności narzędzi do przewidywania struktury drugorzędowej**"
     ]
    },
    {
     "cell_type": "markdown",
     "metadata": {},
     "source": [
      "**7. Zbiór i ocena jakości i aktualności narzędzi do identyfikacji oddziaływań wewnątrz i międzycząsteczkowych**"
     ]
    },
    {
     "cell_type": "markdown",
     "metadata": {},
     "source": [
      "**8. Moduł Pythona do obsugi zapytań w RNA-Central (wykorzystanie API)**"
     ]
    },
    {
     "cell_type": "markdown",
     "metadata": {},
     "source": [
      "**9. Optymalizacja struktury trzeciorzędowej**"
     ]
    }
   ]
  }
 ],
 "cells": [],
 "metadata": {},
 "nbformat": 3,
 "nbformat_minor": 0
}