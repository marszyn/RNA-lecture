{
 "worksheets": [
  {
   "cells": [
    {
     "cell_type": "heading",
     "metadata": {},
     "level": 2,
     "source": [
      "Dlaczego Python"
     ]
    },
    {
     "cell_type": "markdown",
     "metadata": {},
     "source": [
      "*W materiałach wykorzystano fragmenty wykładu: \"Programowanie w języku python\" dra Wojciecha Czarneckiego.*"
     ]
    },
    {
     "cell_type": "markdown",
     "metadata": {},
     "source": [
      "> ***Python is fast enough for our site and allows us to produce maintainable features in record times, with a minimum of developers.***\n",
      "\n",
      "*Cuong Do, Software Architect, YouTube.com*\n",
      " "
     ]
    },
    {
     "cell_type": "heading",
     "metadata": {},
     "level": 3,
     "source": [
      "Cechy Pythona:"
     ]
    },
    {
     "cell_type": "markdown",
     "metadata": {},
     "source": [
      " * Szybsze pisanie kodu - zwykle około 2-10 razy krótszy kod (w porównaniu do C, C++, Java wg Guido)  \n",
      " * Łatwiejsze utrzymanie kodu - nacisk na czytelność\n",
      " * Duża szybkość uczenia się\n",
      " * Język o dużej ekspresji - idealny do prototypowania\n",
      " * Community, community, community\n",
      " * Batteries included - ogromna liczba bibliotek\n",
      " * Dojrzałe frameworki webowe (jak Django)\n",
      " * ipython notebook - wygoda Mathematici z siłą *prawdziwego* języka programowania"
     ]
    },
    {
     "cell_type": "code",
     "execution_count": null,
     "metadata": {},
     "outputs": [],
     "input": [
      "import antigravity"
     ],
     "language": "python"
    },
    {
     "cell_type": "heading",
     "metadata": {},
     "level": 3,
     "source": [
      "Python jest językiem:"
     ]
    },
    {
     "cell_type": "markdown",
     "metadata": {},
     "source": [
      "* Wysoko poziomowym (programowanie funkcjonalne !)\n",
      "* Skryptowym (ale ma bytecode jak Java)\n",
      "    * Bo można w nim pisać skrypty ...\n",
      "    * ... ale i duże aplikacje\n",
      "* Ogólnego zastosowania (!) o wysokiej czytelności składni\n",
      "* Dynamicznie typowanym\n",
      "    * ... i gdzie używa się wcięć zamiast bloków"
     ]
    },
    {
     "cell_type": "heading",
     "metadata": {},
     "level": 2,
     "source": [
      "Historia i twórca Pythona"
     ]
    },
    {
     "cell_type": "markdown",
     "metadata": {},
     "source": [
      "* Nazwa inspirowana grupą Monthy Python's Flying Circus\n",
      "\n",
      "![caption](/L1_img/monthy_python.jpg)\n",
      "![caption](L1_img/monthy_python_group.jpg) \n",
      "\n",
      "* Centrum Wiskunde & Informatica – Amsterdam Hollandia\n",
      "* 1sza implementacja – XII 1989\n",
      "* BDFL - **Guido van Rossum**\n",
      "    * Benevolent Dictator For Life\n",
      "    \n",
      "![caption](L1_img/guido1.jpg)\n",
      "\n",
      "* Wersja 1.0 – I 1994\n",
      "* Wersja 2.0 – 16 X 2000\n",
      "    * Pełen Garbage collector\n",
      "    * Unicode (!)\n",
      "    * 2.2 wszystko stało się obiektem, wprowadzono generatory z Icona\n",
      "* Wersja 3.0 – 3 XII 2008\n",
      "* Na wykładzie korzystamy z linii 3.4.x\n",
      "* Co \"stoi\" na Pythonie?\n",
      "    * YouTube\n",
      "    * Reddit\n",
      "    * EVE Online\n",
      "    * PyMol    \n"
     ]
    },
    {
     "cell_type": "heading",
     "metadata": {},
     "level": 2,
     "source": [
      "Python ZEN"
     ]
    },
    {
     "cell_type": "markdown",
     "metadata": {},
     "source": [
      "PEP - Python Enhancement Proposal - system dokumentów (podobna idea RFC) dokumentujące pomysły na rozwój środowiska Python\n",
      "\n",
      "\n",
      "PEP 20 - http://www.python.org/dev/peps/pep-0020/\n",
      "\n",
      "***Long time Pythoneer Tim Peters succinctly channels the BDFL's guiding principles for Python's design into 20 aphorisms, only 19 of which have been written down.***"
     ]
    },
    {
     "cell_type": "code",
     "execution_count": null,
     "metadata": {},
     "outputs": [],
     "input": [
      "import this"
     ],
     "language": "python"
    },
    {
     "cell_type": "heading",
     "metadata": {},
     "level": 2,
     "source": [
      "Przykładowy kod w Pythonie"
     ]
    },
    {
     "cell_type": "markdown",
     "metadata": {},
     "source": [
      "    #!/usr/bin/python\n",
      "    import sys\n",
      "    \n",
      "    def parrot(param):\n",
      "        print(param, ' is dead')\n",
      "    \n",
      "    if __name__== '__main__':\n",
      "        for i in sys.argv:\n",
      "            parrot(i)"
     ]
    },
    {
     "cell_type": "heading",
     "metadata": {},
     "level": 2,
     "source": [
      "Moduły"
     ]
    },
    {
     "cell_type": "heading",
     "metadata": {},
     "level": 3,
     "source": [
      "Wyrażenie import"
     ]
    },
    {
     "cell_type": "markdown",
     "metadata": {},
     "source": [
      "* Zmienna __name__ zawiera nazwę bieżącego pakietu"
     ]
    },
    {
     "cell_type": "markdown",
     "metadata": {},
     "source": [
      "    #!/usr/bin/python\n",
      "    # Filename: using_name.py\n",
      "    \n",
      "    if __name__ == '__main__':\n",
      "        print 'This program is being run by itself'\n",
      "    else:\n",
      "        print 'I am being imported from another module'\n",
      "\n",
      "Przykładowe uruchomienia:\n",
      "    \n",
      "    $ python using_name.py\n",
      "    This program is being run by itself\n",
      "    \n",
      "    $ python\n",
      "    >>> import using_name\n",
      "    I am being imported from another module\n",
      "    >>>\n"
     ]
    },
    {
     "cell_type": "markdown",
     "metadata": {},
     "source": [
      "* **import**\n",
      "    * dołącza plik z $PYTHONPATH: .:/usr/local/lib/python\n",
      "    \n",
      "* **import test**\n",
      "    * Do x w test odwołujemy się przez \"test.x\"\n",
      "    \n",
      "* **from test import x**\n",
      "    * Do x w test odwołujemy się przez \"x\"\n",
      "    \n",
      "* ** import test.x.y ** \n",
      "    * Do y odwołujemy się przez \"test.x.y\"    \n",
      "    \n",
      "* **from test import * **\n",
      "    * Wczytuje wszystko z test. Do x w test odwołujemy się przez \"x\" (nie zalecane)\n",
      "    \n",
      "* ** import test as theTest** \n",
      "    * Do x w test odwołujemy się przez \"theTest.x\"\n",
      "\n",
      "    \n",
      "   \n"
     ]
    },
    {
     "cell_type": "markdown",
     "metadata": {},
     "source": [
      "* Kolekcja modułów znajduje się w katalogu\n",
      "* Katalog z modułem musi zawierać plik \\__init\\__.py\n",
      "* Moduł może zawierać podmoduły\n"
     ]
    },
    {
     "cell_type": "markdown",
     "metadata": {},
     "source": [
      "    sound/                   Top-level package\n",
      "      __init__.py            Initialize the sound package\n",
      "      formats/               Subpackage for format conversions\n",
      "          __init__.py\n",
      "          wavread.py\n",
      "          wavwrite.py\n",
      "          aiffread.py\n",
      "          aiffwrite.py\n",
      "          auread.py\n",
      "          auwrite.py\n",
      "\n",
      "    >>> from sound.formats import wavwrite"
     ]
    },
    {
     "cell_type": "heading",
     "metadata": {},
     "level": 3,
     "source": [
      "dir()"
     ]
    },
    {
     "cell_type": "code",
     "execution_count": null,
     "metadata": {},
     "outputs": [],
     "input": [
      "import sys\n",
      "dir(sys) # get list of attributes for sys module"
     ],
     "language": "python"
    },
    {
     "cell_type": "heading",
     "metadata": {},
     "level": 2,
     "source": [
      "Pętla WHILE"
     ]
    },
    {
     "cell_type": "code",
     "execution_count": null,
     "metadata": {},
     "outputs": [
      {
       "ename": "StdinNotImplementedError",
       "evalue": "raw_input was called, but this frontend does not support input requests.",
       "output_type": "pyerr",
       "traceback": [
        "\u001b[1;31m---------------------------------------------------------------------------\u001b[0m",
        "\u001b[1;31mStdinNotImplementedError\u001b[0m                  Traceback (most recent call last)",
        "\u001b[1;32m<ipython-input-3-f663da05453e>\u001b[0m in \u001b[0;36m<module>\u001b[1;34m()\u001b[0m\n\u001b[0;32m      3\u001b[0m \u001b[1;33m\u001b[0m\u001b[0m\n\u001b[0;32m      4\u001b[0m \u001b[1;32mwhile\u001b[0m \u001b[0mrunning\u001b[0m\u001b[1;33m:\u001b[0m\u001b[1;33m\u001b[0m\u001b[0m\n\u001b[1;32m----> 5\u001b[1;33m     \u001b[0mguess\u001b[0m \u001b[1;33m=\u001b[0m \u001b[0mint\u001b[0m\u001b[1;33m(\u001b[0m\u001b[0minput\u001b[0m\u001b[1;33m(\u001b[0m\u001b[1;34m'Enter an integer : '\u001b[0m\u001b[1;33m)\u001b[0m\u001b[1;33m)\u001b[0m\u001b[1;33m\u001b[0m\u001b[0m\n\u001b[0m\u001b[0;32m      6\u001b[0m \u001b[1;33m\u001b[0m\u001b[0m\n\u001b[0;32m      7\u001b[0m     \u001b[1;32mif\u001b[0m \u001b[0mguess\u001b[0m \u001b[1;33m==\u001b[0m \u001b[0mnumber\u001b[0m\u001b[1;33m:\u001b[0m\u001b[1;33m\u001b[0m\u001b[0m\n",
        "\u001b[1;32mC:\\Python34\\lib\\site-packages\\ipykernel\\kernelbase.py\u001b[0m in \u001b[0;36mraw_input\u001b[1;34m(self, prompt)\u001b[0m\n\u001b[0;32m    670\u001b[0m         \u001b[1;32mif\u001b[0m \u001b[1;32mnot\u001b[0m \u001b[0mself\u001b[0m\u001b[1;33m.\u001b[0m\u001b[0m_allow_stdin\u001b[0m\u001b[1;33m:\u001b[0m\u001b[1;33m\u001b[0m\u001b[0m\n\u001b[0;32m    671\u001b[0m             raise StdinNotImplementedError(\n\u001b[1;32m--> 672\u001b[1;33m                 \u001b[1;34m\"raw_input was called, but this frontend does not support input requests.\"\u001b[0m\u001b[1;33m\u001b[0m\u001b[0m\n\u001b[0m\u001b[0;32m    673\u001b[0m             )\n\u001b[0;32m    674\u001b[0m         return self._input_request(prompt,\n",
        "\u001b[1;31mStdinNotImplementedError\u001b[0m: raw_input was called, but this frontend does not support input requests."
       ]
      }
     ],
     "input": [
      "number = 23\n",
      "running = True\n",
      "\n",
      "while running:\n",
      "    guess = int(input('Enter an integer : '))\n",
      "\n",
      "    if guess == number:\n",
      "        print('Congratulations, you guessed it.')\n",
      "        running = False # this causes the while loop to stop\n",
      "        #break - but we can't use break here -> no else then \n",
      "    elif guess < number:\n",
      "        print('No, it is a little higher than that.')\n",
      "    else:\n",
      "        print('No, it is a little lower than that.')\n",
      "else:\n",
      "    print('The while loop is over.')\n",
      "# Do anything else you want to do here\n",
      "\n",
      "print('Done')"
     ],
     "language": "python",
     "prompt_number": 3
    },
    {
     "cell_type": "heading",
     "metadata": {},
     "level": 2,
     "source": [
      "Pętla FOR"
     ]
    },
    {
     "cell_type": "markdown",
     "metadata": {},
     "source": [
      "Typowa pętla po liczbach:"
     ]
    },
    {
     "cell_type": "code",
     "execution_count": null,
     "metadata": {},
     "outputs": [],
     "input": [
      "for i in range(1, 5):    # in 2.x you should always use xrange (generator) for that\n",
      "    print(i)\n",
      "else:\n",
      "    print('The for loop is over')"
     ],
     "language": "python"
    },
    {
     "cell_type": "markdown",
     "metadata": {},
     "source": [
      "W praktyce najczęściej iterujemy po elementach:"
     ]
    },
    {
     "cell_type": "code",
     "execution_count": null,
     "metadata": {},
     "outputs": [],
     "input": [
      "for e in ['apple', 'orange', 'peach']:\n",
      "    print(e)"
     ],
     "language": "python"
    },
    {
     "cell_type": "markdown",
     "metadata": {},
     "source": [
      "W takiej pętli nie mamy dostępu do indeksu elementu w liście, ale możemy taki uzyskać, odpowiednio mapując kolekcję za pomocą enumerate (generator):"
     ]
    },
    {
     "cell_type": "code",
     "execution_count": null,
     "metadata": {},
     "outputs": [],
     "input": [
      "list(enumerate(['apple', 'orange', 'peach']))"
     ],
     "language": "python"
    },
    {
     "cell_type": "code",
     "execution_count": null,
     "metadata": {},
     "outputs": [],
     "input": [
      "for i, e in enumerate(['apple', 'orange', 'peach']):\n",
      "    print(i, e)"
     ],
     "language": "python"
    },
    {
     "cell_type": "markdown",
     "metadata": {},
     "source": [
      "**W for może wystąpić dowolny typ sekwencyjny:**\n",
      "\n",
      "* `str`, `unicode`, `list`, `tuple`, `buffer`, `xrange`\n",
      "* range zwraca listę, lista: `[1,2,3,4]`\n",
      "* tuple (krotka) tworzona operatorem `,`: `1,2,3` albo `(3,)` albo `()`\n",
      "* `'ala'`, `”makota”` (rzutowanie `str()` )\n",
      "* `u'ala'`, `u”makota”` (rzutowanie `unicode()` )\n",
      "* Operacje na sekwencjach:\n",
      "    * Operacje: \n",
      "        * `x in s` \n",
      "        * `x not in s` \n",
      "        * `s + t`\n",
      "        * `s * n`\n",
      "        * `s[i]` \n",
      "        * `s[i:j]` \n",
      "        * `s[i:j:k]`\n",
      "    * Operacje: \n",
      "        * `len(s)`\n",
      "        * `min(s)` \n",
      "        * `max(s)`"
     ]
    },
    {
     "cell_type": "heading",
     "metadata": {},
     "level": 2,
     "source": [
      "Typy sekwencyjne"
     ]
    },
    {
     "cell_type": "heading",
     "metadata": {},
     "level": 3,
     "source": [
      "Listy - list (mutable)"
     ]
    },
    {
     "cell_type": "code",
     "execution_count": null,
     "metadata": {},
     "outputs": [],
     "input": [
      "lists = [[]] * 3\n",
      "lists"
     ],
     "language": "python"
    },
    {
     "cell_type": "code",
     "execution_count": null,
     "metadata": {},
     "outputs": [],
     "input": [
      "lists[0].append(3)\n",
      "lists"
     ],
     "language": "python"
    },
    {
     "cell_type": "code",
     "execution_count": null,
     "metadata": {},
     "outputs": [],
     "input": [
      "lists = [[], [], []]\n",
      "lists[0].append(3)\n",
      "lists[1].append(5)\n",
      "lists[2].append(7)\n",
      "lists"
     ],
     "language": "python"
    },
    {
     "cell_type": "heading",
     "metadata": {},
     "level": 3,
     "source": [
      "Tuple - tuple (immutable)"
     ]
    },
    {
     "cell_type": "code",
     "execution_count": null,
     "metadata": {},
     "outputs": [],
     "input": [
      "tuples = tuple() \n",
      "tuples"
     ],
     "language": "python"
    },
    {
     "cell_type": "code",
     "execution_count": null,
     "metadata": {},
     "outputs": [],
     "input": [
      "tuples = (1,)\n",
      "tuples"
     ],
     "language": "python"
    },
    {
     "cell_type": "code",
     "execution_count": null,
     "metadata": {},
     "outputs": [],
     "input": [
      "two_tuples = tuples + (\"dwa\",)\n",
      "two_tuples"
     ],
     "language": "python"
    },
    {
     "cell_type": "code",
     "execution_count": null,
     "metadata": {},
     "outputs": [],
     "input": [
      "print(two_tuples[0])\n",
      "print(two_tuples[1])"
     ],
     "language": "python"
    },
    {
     "cell_type": "code",
     "execution_count": null,
     "metadata": {},
     "outputs": [],
     "input": [
      "two_tuples[1] = \"trzy\""
     ],
     "language": "python"
    },
    {
     "cell_type": "markdown",
     "metadata": {},
     "source": [
      "Pakowanie i rozpakowywanie tupli:"
     ]
    },
    {
     "cell_type": "code",
     "execution_count": null,
     "metadata": {},
     "outputs": [],
     "input": [
      "j, d = two_tuples\n",
      "print(\"j =\", j)\n",
      "print(\"d =\", d)"
     ],
     "language": "python"
    },
    {
     "cell_type": "markdown",
     "metadata": {},
     "source": [
      "Ponieważ mamy tuple, w Pythonie zamianę zmiennych wykonujemy z użyciem idiomu:"
     ]
    },
    {
     "cell_type": "code",
     "execution_count": null,
     "metadata": {},
     "outputs": [],
     "input": [
      "d, j = j, d\n",
      "print(\"j =\", j)\n",
      "print(\"d =\", d)"
     ],
     "language": "python"
    },
    {
     "cell_type": "markdown",
     "metadata": {},
     "source": [
      "W innych językach musielibyśmy napisać:\n",
      "    \n",
      "    temp = j\n",
      "    j = d\n",
      "    d = temp"
     ]
    },
    {
     "cell_type": "heading",
     "metadata": {},
     "level": 3,
     "source": [
      "Slicing na typach sekwencyjnych"
     ]
    },
    {
     "cell_type": "markdown",
     "metadata": {},
     "source": [
      "     +---+---+---+---+---+\n",
      "     | H | e | l | l | o |\n",
      "     +---+---+---+---+---+\n",
      "     0   1   2   3   4   5\n",
      "    -5  -4  -3  -2  -1\n"
     ]
    },
    {
     "cell_type": "code",
     "execution_count": null,
     "metadata": {},
     "outputs": [],
     "input": [
      "word = \"Hello\"\n",
      "word[0:2]"
     ],
     "language": "python"
    },
    {
     "cell_type": "code",
     "execution_count": null,
     "metadata": {},
     "outputs": [],
     "input": [
      "word[2:4]"
     ],
     "language": "python"
    },
    {
     "cell_type": "code",
     "execution_count": null,
     "metadata": {},
     "outputs": [],
     "input": [
      "word[:2]"
     ],
     "language": "python"
    },
    {
     "cell_type": "code",
     "execution_count": null,
     "metadata": {},
     "outputs": [],
     "input": [
      "word[2:]"
     ],
     "language": "python"
    },
    {
     "cell_type": "code",
     "execution_count": null,
     "metadata": {},
     "outputs": [],
     "input": [
      "word[-2:]"
     ],
     "language": "python"
    },
    {
     "cell_type": "code",
     "execution_count": null,
     "metadata": {},
     "outputs": [],
     "input": [
      "word[:-2]"
     ],
     "language": "python"
    },
    {
     "cell_type": "code",
     "execution_count": null,
     "metadata": {},
     "outputs": [],
     "input": [
      "word[1:5:3]"
     ],
     "language": "python"
    },
    {
     "cell_type": "heading",
     "metadata": {},
     "level": 2,
     "source": [
      "Typ słownikowy  - dict (mutable)"
     ]
    },
    {
     "cell_type": "code",
     "execution_count": null,
     "metadata": {},
     "outputs": [],
     "input": [
      "print({'yellow': 2, 'blue': 3})\n",
      "print(dict(yellow=2, blue=3))\n",
      "print(dict({'yellow': 2, 'blue': 3}))\n",
      "print(dict(zip(('yellow', 'blue'), (2, 3))))\n",
      "print(dict([['blue', 3], ['yellow', 2]]))\n",
      "print(dict((('blue', 3), ('yellow', 2))))"
     ],
     "language": "python"
    },
    {
     "cell_type": "code",
     "execution_count": null,
     "metadata": {},
     "outputs": [],
     "input": [
      "zip(('yellow', 'blue'), (2, 3))"
     ],
     "language": "python"
    },
    {
     "cell_type": "code",
     "execution_count": null,
     "metadata": {},
     "outputs": [],
     "input": [
      "m = {'yellow': 2, 'blue': 3}\n",
      "m.items()"
     ],
     "language": "python"
    },
    {
     "cell_type": "code",
     "execution_count": null,
     "metadata": {},
     "outputs": [],
     "input": [
      "m.keys()"
     ],
     "language": "python"
    },
    {
     "cell_type": "code",
     "execution_count": null,
     "metadata": {},
     "outputs": [],
     "input": [
      "print(m['yellow'])\n",
      "print(m.get('yellow', 1))"
     ],
     "language": "python"
    },
    {
     "cell_type": "code",
     "execution_count": null,
     "metadata": {},
     "outputs": [],
     "input": [
      "print(m['black'])"
     ],
     "language": "python"
    },
    {
     "cell_type": "code",
     "execution_count": null,
     "metadata": {},
     "outputs": [],
     "input": [
      "print(m.get('black', 4))"
     ],
     "language": "python"
    },
    {
     "cell_type": "code",
     "execution_count": null,
     "metadata": {},
     "outputs": [],
     "input": [
      "'yellow' in m"
     ],
     "language": "python"
    },
    {
     "cell_type": "code",
     "execution_count": null,
     "metadata": {},
     "outputs": [],
     "input": [
      "len(m)"
     ],
     "language": "python"
    },
    {
     "cell_type": "code",
     "execution_count": null,
     "metadata": {},
     "outputs": [],
     "input": [
      "m['orange'] = 5\n",
      "m"
     ],
     "language": "python"
    },
    {
     "cell_type": "heading",
     "metadata": {},
     "level": 3,
     "source": [
      "Klucz typu słownikowego"
     ]
    },
    {
     "cell_type": "markdown",
     "metadata": {},
     "source": [
      "Kluczem (w skrócie) może być wszystko co ma swoją reprezentację jako hash, a dokładniej:\n",
      "\n",
      "> An object is hashable if it has a hash value which never changes during its lifetime (it needs a __hash__() method), and can be compared to other objects (it needs an __eq__() or __cmp__() method). Hashable objects which compare equal must have the same hash value."
     ]
    },
    {
     "cell_type": "code",
     "execution_count": null,
     "metadata": {},
     "outputs": [],
     "input": [
      "coordinate_xy = (2, 3)\n",
      "board_map= {}\n",
      "board_map[coordinate_xy] = True\n",
      "board_map"
     ],
     "language": "python"
    },
    {
     "cell_type": "code",
     "execution_count": null,
     "metadata": {},
     "outputs": [],
     "input": [
      "coordinate_xy = [2, 3]\n",
      "board_map= {}\n",
      "board_map[coordinate_xy] = True\n",
      "board_map"
     ],
     "language": "python"
    },
    {
     "cell_type": "code",
     "execution_count": null,
     "metadata": {},
     "outputs": [],
     "input": [
      "all_board_maps = {}\n",
      "all_board_maps[board_map] = True\n",
      "all_board_maps"
     ],
     "language": "python"
    },
    {
     "cell_type": "heading",
     "metadata": {},
     "level": 2,
     "source": [
      "Zbiory set (mutable), frozenset (immutable)"
     ]
    },
    {
     "cell_type": "code",
     "execution_count": null,
     "metadata": {},
     "outputs": [],
     "input": [
      "print(set([1,2,3,5,4,3,1]))\n",
      "print({1,2,3,5,4,3,1})"
     ],
     "language": "python"
    },
    {
     "cell_type": "code",
     "execution_count": null,
     "metadata": {},
     "outputs": [],
     "input": [
      "s = set([1,2,3,5,4,3,1])\n",
      "2 in s"
     ],
     "language": "python"
    },
    {
     "cell_type": "code",
     "execution_count": null,
     "metadata": {},
     "outputs": [],
     "input": [
      "list(s)"
     ],
     "language": "python"
    },
    {
     "cell_type": "heading",
     "metadata": {},
     "level": 2,
     "source": [
      "Funkcje"
     ]
    },
    {
     "cell_type": "code",
     "execution_count": null,
     "metadata": {},
     "outputs": [],
     "input": [
      "def say(message, times=1):\n",
      "    print((message + ' ') * times)\n",
      "    \n",
      "say('developers')"
     ],
     "language": "python"
    },
    {
     "cell_type": "code",
     "execution_count": null,
     "metadata": {},
     "outputs": [],
     "input": [
      "say('developers', 3)"
     ],
     "language": "python"
    },
    {
     "cell_type": "code",
     "execution_count": null,
     "metadata": {},
     "outputs": [],
     "input": [
      "say('developers', times=3)"
     ],
     "language": "python"
    },
    {
     "cell_type": "code",
     "execution_count": null,
     "metadata": {},
     "outputs": [],
     "input": [
      "say(times=3, 'developers')"
     ],
     "language": "python"
    },
    {
     "cell_type": "code",
     "execution_count": null,
     "metadata": {},
     "outputs": [],
     "input": [
      "say(times=3, message='developers')"
     ],
     "language": "python"
    },
    {
     "cell_type": "heading",
     "metadata": {},
     "level": 3,
     "source": [
      "Argumenty \\*args, \\**kwargs"
     ]
    },
    {
     "cell_type": "code",
     "execution_count": null,
     "metadata": {},
     "outputs": [],
     "input": [
      "def say_more(times, *args):\n",
      "    print((', '.join(args) + ' | ') * times)\n",
      "say_more(3, 'raz', 'dwa')"
     ],
     "language": "python"
    },
    {
     "cell_type": "code",
     "execution_count": null,
     "metadata": {},
     "outputs": [],
     "input": [
      "def say_even_more(*args, **kwargs):\n",
      "    print(args #lista)\n",
      "    print(kwargs #mapa)\n",
      " \n",
      "say_even_more(1, 2, 3, foo=4, bar=5)"
     ],
     "language": "python"
    },
    {
     "cell_type": "heading",
     "metadata": {},
     "level": 3,
     "source": [
      "Zmienne globalne"
     ]
    },
    {
     "cell_type": "code",
     "execution_count": null,
     "metadata": {},
     "outputs": [],
     "input": [
      "def func():\n",
      "    global x\n",
      "    print('x is', x)\n",
      "    x = 2\n",
      "    print('Changed global x to', x)\n",
      "x = 50\n",
      "func()\n",
      "print(x)"
     ],
     "language": "python"
    },
    {
     "cell_type": "heading",
     "metadata": {},
     "level": 2,
     "source": [
      "CBO - Call by object"
     ]
    },
    {
     "cell_type": "code",
     "execution_count": null,
     "metadata": {},
     "outputs": [],
     "input": [
      "my_list = [1, 2, 3]\n",
      "def add_something(variable, value):\n",
      "    variable += value\n",
      "    print(\"Inside add_something\", variable)\n",
      "\n",
      "print(my_list)\n",
      "add_something(my_list, [4])\n",
      "print(my_list)"
     ],
     "language": "python"
    },
    {
     "cell_type": "code",
     "execution_count": null,
     "metadata": {},
     "outputs": [],
     "input": [
      "my_int = 3\n",
      "print(my_int)\n",
      "add_something(my_int, 4)\n",
      "print(my_int)"
     ],
     "language": "python"
    },
    {
     "cell_type": "markdown",
     "metadata": {},
     "source": [
      "![caption](L1_img/img040.gif) \n",
      "\n",
      "Source: http://www.python.org/doc/essays/ppt/acm-ws/\n"
     ]
    },
    {
     "cell_type": "code",
     "execution_count": null,
     "metadata": {},
     "outputs": [],
     "input": [
      "a_list = []\n",
      "b_list = a_list\n",
      "a_list.extend([1, 2, 3])  \n",
      "print(a_list, id(a_list))\n",
      "print(b_list, id(b_list))"
     ],
     "language": "python"
    },
    {
     "cell_type": "code",
     "execution_count": null,
     "metadata": {},
     "outputs": [],
     "input": [
      "a_list = []\n",
      "b_list = a_list[:]\n",
      "a_list.extend([1, 2, 3])  \n",
      "print(a_list, id(a_list))\n",
      "print(b_list, id(b_list))"
     ],
     "language": "python"
    },
    {
     "cell_type": "code",
     "execution_count": null,
     "metadata": {},
     "outputs": [],
     "input": [
      "from copy import copy\n",
      "a_list = []\n",
      "b_list = copy(a_list)\n",
      "a_list.extend([1, 2, 3])  \n",
      "print(a_list, id(a_list))\n",
      "print(b_list, id(b_list))"
     ],
     "language": "python"
    },
    {
     "cell_type": "markdown",
     "metadata": {},
     "source": [
      "![caption](files/L1_img/img041.gif)\n",
      "\n",
      "Source: http://www.python.org/doc/essays/ppt/acm-ws/"
     ]
    },
    {
     "cell_type": "heading",
     "metadata": {},
     "level": 2,
     "source": [
      "Dynamiczna typizacja zmiennych"
     ]
    },
    {
     "cell_type": "markdown",
     "metadata": {},
     "source": [
      "* Python, Groovy, JavaScript, Ruby są **dynamicznie typowalne (dynamic typing)**\n",
      "    * Typ związany z wartością – nie zmienną\n"
     ]
    },
    {
     "cell_type": "code",
     "execution_count": null,
     "metadata": {},
     "outputs": [],
     "input": [
      "x = 5\n",
      "print x, type(x), repr(x)\n",
      "x = \"5\"\n",
      "print x, type(x), repr(x)"
     ],
     "language": "python"
    },
    {
     "cell_type": "markdown",
     "metadata": {},
     "source": [
      "* C/C++, Java są **statycznie typowalne (static typing)**\n",
      "        * Typ związany ze zmienną – nie wartością, czasem niejawnie:\n",
      "            \n",
      "            int main() {\n",
      "                length::meter a(5); force::newton b(6);\n",
      "                BOOST_AUTO(c, a * b);\n",
      "            }\n",
      "* Python jest **silnie typowalny (strongly typed)**\n",
      "    * Kontrolowane są operacje czy są wykonalne na danym typie"
     ]
    },
    {
     "cell_type": "code",
     "execution_count": null,
     "metadata": {},
     "outputs": [],
     "input": [
      "a = \"a\"\n",
      "a = a + 3"
     ],
     "language": "python"
    },
    {
     "cell_type": "markdown",
     "metadata": {},
     "source": [
      "\n",
      "\n",
      "* JavaScript jest **słabo typowalny (weakly typed)**\n",
      "    * Rzutowania wykonywane są w locie\n",
      "\n",
      "* Python ma **bezpieczną typizację (type-safe)**\n",
      "* C **nie ma bezpiecznej typizacji (type-unsafe)**\n",
      "    * rzutowanie z/na void*            \n"
     ]
    },
    {
     "cell_type": "heading",
     "metadata": {},
     "level": 2,
     "source": [
      "Duck Typing"
     ]
    },
    {
     "cell_type": "code",
     "execution_count": null,
     "metadata": {},
     "outputs": [],
     "input": [
      "class Duck:\n",
      "    def quack(self): \n",
      "        print(\"Quaaaaaack!\")\n",
      "    def feathers(self): \n",
      "        print(\"The duck has white and gray feathers.\")\n",
      " \n",
      "class Person:\n",
      "    def quack(self):\n",
      "        print(\"The person imitates a duck.\")\n",
      "    def feathers(self): \n",
      "        print(\"The person takes a feather and shows it.\")"
     ],
     "language": "python"
    },
    {
     "cell_type": "code",
     "execution_count": null,
     "metadata": {},
     "outputs": [],
     "input": [
      "def in_the_forest(duck):\n",
      "    duck.quack()\n",
      "    duck.feathers()"
     ],
     "language": "python"
    },
    {
     "cell_type": "code",
     "execution_count": null,
     "metadata": {},
     "outputs": [],
     "input": [
      "def game():\n",
      "    donald = Duck()\n",
      "    john = Person()\n",
      "    in_the_forest(donald)\n",
      "    in_the_forest(john)\n",
      "\n",
      "game()"
     ],
     "language": "python"
    },
    {
     "cell_type": "heading",
     "metadata": {},
     "level": 2,
     "source": [
      "Python - problemy"
     ]
    },
    {
     "cell_type": "markdown",
     "metadata": {},
     "source": [
      "* Nie jest tak szybki jak C/C++\n",
      "\n",
      "* Dynamiczna typizacja może być niebezpieczna\n",
      "\n",
      "* Global Interpreter Lock"
     ]
    },
    {
     "cell_type": "heading",
     "metadata": {},
     "level": 2,
     "source": [
      "Alternatywne implementacje Pythona"
     ]
    },
    {
     "cell_type": "markdown",
     "metadata": {},
     "source": [
      "* CPython - standardowa implementacja jest często w kontekście innych alternatywnych nazywana CPython\n",
      "\n",
      "* RPython - Restricted Python, statycznie typowany podzbiór języka Python, JIT \n",
      "\n",
      "* PyPy - interpreter Pythona napisany w ... Pythonie (dokładnie w RPythonie), it's all about speed, JIT\n",
      "\n",
      "* Jython – interpreter napisany na JVM\n",
      "\n",
      "* Stackless Python - nie używa C call stack, skierowany na wielowątkowość (microthreads)\n",
      "\n",
      "* Unladen Swallow - sponsorowany przez Googla zawieszony po 2009 roku projekt miał dostarczyć super wydajną wersję CPythona. Nie wyszło.\n"
     ]
    }
   ]
  }
 ],
 "cells": [],
 "metadata": {
  "name": "",
  "signature": "sha256:5e1ab6a89f56bfbe53d0ffe53843da3ee62e26375f416e7c976c03ced255b7a2"
 },
 "nbformat": 3,
 "nbformat_minor": 0
}