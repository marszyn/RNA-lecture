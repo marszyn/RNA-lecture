{
 "cells": [
  {
   "cell_type": "markdown",
   "metadata": {},
   "source": [
    "#### Zajęcia 2, 27.02.2016 ####\n",
    "# Bazy danych RNA #"
   ]
  },
  {
   "cell_type": "markdown",
   "metadata": {},
   "source": [
    "# 1. Bazy sekwencyjne i repozytoria #\n",
    "## NCBI ##\n",
    "Podstawowe repozytorium danych biologicznych. Gromadzi szereg baz danych (Genbank, RefSeq, SNP, OMIM, GEO, Genome, Pubmed, itp.) i popularnych narzędzi (np. BLAST).\n",
    "\n",
    "* www: [http://www.ncbi.nlm.nih.gov/](http://www.ncbi.nlm.nih.gov/)\n",
    "* FTP: [ftp://ftp.ncbi.nlm.nih.gov/](ftp://ftp.ncbi.nlm.nih.gov/)\n",
    "* API: [http://www.ncbi.nlm.nih.gov/home/api.shtml](http://www.ncbi.nlm.nih.gov/home/api.shtml)\n",
    "* Entrez: system wyszukiwania w wielu powiązanych bazach jednocześnie. [http://www.ncbi.nlm.nih.gov/gquery/](http://www.ncbi.nlm.nih.gov/gquery/)"
   ]
  },
  {
   "cell_type": "markdown",
   "metadata": {},
   "source": [
    "## Ensembl ##\n",
    "* www: [http://www.ensembl.org/index.html](http://www.ensembl.org/index.html)"
   ]
  },
  {
   "cell_type": "markdown",
   "metadata": {},
   "source": [
    "## RNA Central ##\n",
    "* www: [http://rnacentral.org/](http://rnacentral.org/)\n",
    "* artykuł: [RNAcentral: an international database of ncRNA sequences](http://nar.oxfordjournals.org/content/43/D1/D123)\n",
    "* prezentacja po polsku: [z naszego seminarium](http://www.ii.uj.edu.pl/~smietans/bio-sem/RNAcentral.pdf)\n",
    "* prezentacja EBI z [webinarium](https://docs.google.com/presentation/d/1XIJuU0vckkGK89rhu37VZ6sF_KQ9tORdm4Zvt1YITY8/edit#slide=id.ge5fdfe86f_1_0)\n",
    "* lista baz danych uczestniczących w projekcie: [http://rnacentral.org/expert-databases](http://rnacentral.org/expert-databases)\n",
    "* FTP: [ftp://ftp.ebi.ac.uk/pub/databases/RNAcentral/current_release/](ftp://ftp.ebi.ac.uk/pub/databases/RNAcentral/current_release/)\n",
    "* API: [http://rnacentral.org/api](http://rnacentral.org/api)\n",
    "\n",
    "Jest to meta-baza sekwencji niekodujących RNA. Aktualna wersja (4.0) zawiera 9,321,083 unikalnych sekwencji RNA i 26,219,487 powiązań do 22 baz danych.\n",
    "\n",
    "Właściwości: [http://rnacentral.org/about-us](http://rnacentral.org/about-us)"
   ]
  },
  {
   "cell_type": "markdown",
   "metadata": {},
   "source": [
    "## ENA ##\n",
    "Dane sekwencyjne, eksperymentalne, adnotacje.\n",
    "\n",
    "* www: [http://www.ebi.ac.uk/ena](http://www.ebi.ac.uk/ena)"
   ]
  },
  {
   "cell_type": "markdown",
   "metadata": {},
   "source": [
    "## INSDC ##\n",
    "International Nucleotide Sequence Database Collaboration.\n",
    "Instytucja łącząca sieci amerykańską, europejską i japońską.\n",
    "\n",
    "www: [http://www.insdc.org/](http://www.insdc.org/)"
   ]
  },
  {
   "cell_type": "markdown",
   "metadata": {},
   "source": [
    "## Repozytorium NAR ##\n",
    "\n",
    "* Nucleic Acid Research [https://www.oxfordjournals.org/our_journals/nar/database/subcat/4/13](https://www.oxfordjournals.org/our_journals/nar/database/subcat/4/13)\n",
    "...."
   ]
  },
  {
   "cell_type": "markdown",
   "metadata": {},
   "source": [
    "## Źródła wiedzy ##\n",
    "\n",
    "### Eksperymentalne metody pozyskiwania informacji o strukturach przestrzennych: ### \n",
    "\n",
    "*W nawiasach liczba i odsetek struktur zawierających RNA zdeponowanych w bazie PDB wg stanu na 27.02.2016 (łacznie 3101 struktur).*\n",
    "\n",
    "* X-ray (2229 : 72%)\n",
    "* Solution NMR (602 : 19%)\n",
    "* Electron Microscopy (260 : 8%)\n",
    "* Fiber Diffraction (5)\n",
    "* Hybrid (3)\n",
    "* Other (1)\n",
    "* Solid-State NMR (1)\n",
    "\n",
    "### Źródła danych sekwencyjnych ###\n",
    "\n",
    "* Sekwencjonowanie DNA\n",
    "* Mikromacierze"
   ]
  },
  {
   "cell_type": "markdown",
   "metadata": {},
   "source": [
    "# 2. Baza PDB #\n",
    "* www: [http://pdb.org/]([http://pdb.org/)\n",
    "* wersja europejska - PDBe: [http://www.ebi.ac.uk/pdbe/](http://www.ebi.ac.uk/pdbe/)\n",
    "* wersja japońska - PDBj: [http://pdbj.org](http://pdbj.org)\n",
    "* artykuł: [http://nar.oxfordjournals.org/content/28/1/235.abstract](http://nar.oxfordjournals.org/content/28/1/235.abstract)\n",
    "* prezentacja po polsku: [z naszego seminarium](http://www.ii.uj.edu.pl/~smietans/bio-sem/PDB_Izabela-Orlowska.pdf)\n",
    "* FTP: [ftp://ftp.ebi.ac.uk/pub/databases/RNAcentral/current_release/](ftp://ftp.ebi.ac.uk/pub/databases/RNAcentral/current_release/)\n",
    "* API: [http://www.rcsb.org/pdb/software/rest.do](http://www.rcsb.org/pdb/software/rest.do)\n",
    "* dokumentacja formatu pdb: [http://www.wwpdb.org/documentation/file-format](http://www.wwpdb.org/documentation/file-format)\n",
    "* dokumentacja formatu mmCif: [http://mmcif.wwpdb.org/](http://mmcif.wwpdb.org/)\n",
    "* statystyki: [http://www.rcsb.org/pdb/static.do?p=general_information/pdb_statistics/index.html](http://www.rcsb.org/pdb/static.do?p=general_information/pdb_statistics/index.html)"
   ]
  },
  {
   "cell_type": "markdown",
   "metadata": {},
   "source": [
    "### Zadanie 1 (eksploracja bazy PDB) ###\n",
    "\n",
    "Znajdź wybraną strukturę RNA (np. 1EHZ) w bazach PDB, PDBe, PDBj. Porównaj dostępne informacje oraz sposób ich prezentacji w poszczególnych bazach. Znajdź m.in.: sekwencję nukleotydową, dane taksonomiczne, informacje o publikacji, ligandy, reszty modyfikowane. "
   ]
  },
  {
   "cell_type": "markdown",
   "metadata": {},
   "source": [
    "## Wykorzystanie API ##\n",
    "\n",
    "Poniższy przykład wyświetla liczbę struktur rozwiązanych metodą SOLID-STATE NMR."
   ]
  },
  {
   "cell_type": "code",
   "execution_count": 5,
   "metadata": {},
   "outputs": [
    {
     "name": "stdout",
     "output_type": "stream",
     "text": [
      "query:\n",
      " \n",
      "<?xml version=\"1.0\" encoding=\"UTF-8\"?>\n",
      "<orgPdbQuery>\n",
      "<version>B0907</version>\n",
      "<queryType>org.pdb.query.simple.ExpTypeQuery</queryType>\n",
      "<description>Experimental Method Search : Experimental Method=SOLID-STATE NMR</description>\n",
      "<mvStructure.expMethod.value>SOLID-STATE NMR</mvStructure.expMethod.value>\n",
      "</orgPdbQuery>\n",
      "\n",
      "querying PDB...\n",
      "\n",
      "Found number of PDB entries: 93\n"
     ]
    }
   ],
   "source": [
    "import urllib.request\n",
    "\n",
    "url = 'http://www.rcsb.org/pdb/rest/search'\n",
    "queryText = \"\"\"\n",
    "<?xml version=\"1.0\" encoding=\"UTF-8\"?>\n",
    "<orgPdbQuery>\n",
    "<version>B0907</version>\n",
    "<queryType>org.pdb.query.simple.ExpTypeQuery</queryType>\n",
    "<description>Experimental Method Search : Experimental Method=SOLID-STATE NMR</description>\n",
    "<mvStructure.expMethod.value>SOLID-STATE NMR</mvStructure.expMethod.value>\n",
    "</orgPdbQuery>\n",
    "\"\"\"\n",
    "\n",
    "print(\"query:\\n\", queryText)\n",
    "print( \"querying PDB...\\n\")\n",
    "req = urllib.request.Request(url, data=queryText.encode('ascii'))\n",
    "f = urllib.request.urlopen(req)\n",
    "result = f.read()\n",
    "\n",
    "if result:\n",
    "    resultstr = str(result)\n",
    "    print(\"Found number of PDB entries:\", resultstr.count('\\\\n'))\n",
    "else:\n",
    "    print(\"Failed to retrieve results\")"
   ]
  },
  {
   "cell_type": "markdown",
   "metadata": {},
   "source": [
    "### Zadanie 2 (API - rozgrzewka) ###\n",
    "Przekształć powyższy skrypt tak, aby otrzymać listę identyfikatorów znalezionych struktur."
   ]
  },
  {
   "cell_type": "markdown",
   "metadata": {},
   "source": [
    "### Zadanie 3 (API - informacje o strukturze) ###\n",
    "Napisz skrypt pobierający informacje o pojedynczej strukturze (na wejściu podajemy identyfikator tej struktury)"
   ]
  },
  {
   "cell_type": "markdown",
   "metadata": {},
   "source": [
    "### Zadanie 4 (API - wyszukiwanie zaawansowane) ###\n",
    "\n",
    "Jak widać na przykładzie wyżej, funkcja search przyjmuje jako argument zapytanie w formacie XML. W konstrukcji takiego zapytania może nam pomóc wyszukiwarka na www (a konkretnie opcja \"query details\" w wynikach wyszukiwania).\n",
    "\n",
    "Wyszukaj (\"Advanced search\") struktury zawierające kwasy nukleinowe otrzymane metodą NMR, opublikowane w ciągu ostatniego miesiąca. W wynikach wyszukiwania kliknij \"query details\". Z otrzymanego kodu XML usuń rzeczy nieistotne (queryId, version, description, resultCount, runtimeStart, runtimeMilliseconds). Otrzymany rezultat możesz wykorzystać jako szablon dla swojego programu.\n",
    "\n",
    "Napisz funkcję, która dla zadanego przedziału czasowego (\"od\", \"do\"), wybranej metody eksperymentalnej (X-Ray, NMR, Electron Microscopy, hybrid, Other, Ignore) i typu cząsteczki wywoła odpowiednie zapytanie do API (http://www.rcsb.org/pdb/rest/search/) i zwróci listę identyfikatorów struktur spełniających zadane kryteria."
   ]
  },
  {
   "cell_type": "markdown",
   "metadata": {},
   "source": [
    "## Biopython: PDBParser, MMCIFParser, PDBList ##\n",
    "\n",
    "* Podręcznik, rozdział 11: [http://biopython.org/DIST/docs/tutorial/Tutorial.html#htoc147](http://biopython.org/DIST/docs/tutorial/Tutorial.html#htoc147)\n",
    "* FAQ: [http://biopython.org/wiki/The_Biopython_Structural_Bioinformatics_FAQ](http://biopython.org/wiki/The_Biopython_Structural_Bioinformatics_FAQ)"
   ]
  },
  {
   "cell_type": "markdown",
   "metadata": {},
   "source": [
    "### Zadanie 5 (PDBParser) ###\n",
    "\n",
    "Napisz program, który dla łańcuchów RNA z zadanej struktury w formacie PDB wypisze:\n",
    "1) koordynaty atomów C1' wszystkich nukleotytów,\n",
    "2) odległości pomiędzy atomami C1' dla sąsiadujących nukleotydów w sekwencji"
   ]
  },
  {
   "cell_type": "markdown",
   "metadata": {},
   "source": [
    "### Zadanie 6 (MMCIFBParser) ###\n",
    "\n",
    "Zadanie jak powyżej, ale struktura wejsciowa jest w formacie mmCif."
   ]
  },
  {
   "cell_type": "markdown",
   "metadata": {},
   "source": [
    "## Lokalne wersje formatu pdb ##\n",
    "\n",
    "Niektóre programy modyfikują standardowy format PDB na swoje potrzeby. To sprawia, że pliki z jednego programu mogą nie działać w innym programie. oniżej narzędzie do konwersji między różnymi odmianami formatu PDB:\n",
    "* PDBinout [http://pdbinout.ibch.poznan.pl/index.html](http://pdbinout.ibch.poznan.pl/index.html)"
   ]
  },
  {
   "cell_type": "markdown",
   "metadata": {},
   "source": [
    "## Bazy eksperymentalne ##\n",
    "* Biological Magnetic Resonance Data Bank (BMRB): [http://www.bmrb.wisc.edu/](http://www.bmrb.wisc.edu/)\n",
    "* EMDataBank [http://www.emdatabank.org/](http://www.emdatabank.org/)"
   ]
  },
  {
   "cell_type": "markdown",
   "metadata": {},
   "source": [
    "# 3. Inne bazy danych #\n",
    "\n",
    "* NDB (Nucleic Acid Database): [http://ndbserver.rutgers.edu/](http://ndbserver.rutgers.edu/)\n",
    "* RNAStrand - baz struktur drugorzędowych: [http://www.rnasoft.ca/strand/](http://www.rnasoft.ca/strand/)\n",
    "* RNA HUB - biblioteka motywów: [http://rna.bgsu.edu/rna3dhub/motifs](http://rna.bgsu.edu/rna3dhub/motifs)\n",
    "* RNA Bricks2 - motywy strukturalne: [http://iimcb.genesilico.pl/rnabricks2](http://iimcb.genesilico.pl/rnabricks2)\n",
    "* RNA FraBase - baza fragmentów RNA: [http://rnafrabase.cs.put.poznan.pl/](http://rnafrabase.cs.put.poznan.pl/)"
   ]
  },
  {
   "cell_type": "markdown",
   "metadata": {},
   "source": [
    "## Problemy ##\n",
    "* Powiązania między bazami, mapowanie\n",
    "* Częstotliwość uzupełniania danych\n",
    "* Aktualizacja baz wtórnych po modyfikacji bazy pierwottnej\n",
    "* Redundancja\n",
    "* Błędy"
   ]
  }
 ],
 "metadata": {
  "kernelspec": {
   "display_name": "Python 3",
   "language": "python",
   "name": "python3"
  },
  "language_info": {
   "codemirror_mode": {
    "name": "ipython",
    "version": 3.0
   },
   "file_extension": ".py",
   "mimetype": "text/x-python",
   "name": "python",
   "nbconvert_exporter": "python",
   "pygments_lexer": "ipython3",
   "version": "3.4.2"
  }
 },
 "nbformat": 4,
 "nbformat_minor": 0
}