{
 "cells": [
  {
   "cell_type": "markdown",
   "metadata": {},
   "source": [
    "#### Zajęcia 3, 9.03.2016 ####\n",
    "# Klasyfikacja RNA #"
   ]
  },
  {
   "cell_type": "markdown",
   "metadata": {},
   "source": [
    "### Zadanie 1 (właściwości i rodzaje RNA) ###\n",
    "* Która cząsteczka jest bardziej stabilna: podwójna nić DNA czy podwójna nić RNA? Wyjaśnij.\n",
    "* Wskaż różnice między RNA a DNA.\n",
    "* Wyjaśnij na kilku przykładach znaczenie struktury RNA.\n",
    "* Opisz pierwszorzędową, drugorzędową i trzeciorzędową strukturę RNA.\n",
    "* Wskaż trzy najpopularniejsze pary w drugorzędowej strukturze RNA. Ile wiązań wororowych jest tworzone przez każdą z nich? Uporządkuj je wg stabilności.\n",
    "* Co jest bardziej konserwowane wśród homologicznych RNA: sekwencja czy struktura? Dlaczego?\n",
    "* Wymień podstawowe typy RNA. Scharakteryzuj każdy z nich."
   ]
  },
  {
   "cell_type": "markdown",
   "metadata": {},
   "source": [
    "# 1. Dopasowania wielosekwencyjne #\n",
    "\n",
    "* prezentacja: [slajdy z wykładu z bioinformatyki](https://ww2.ii.uj.edu.pl/~smietans/intra/bs/Bio-2015-05_MSA.pdf)\n",
    "\n",
    "### Zadanie 2 ###\n",
    "* Opisz proces tworzenia dopasowania wielosekwencyjnego\n",
    "* Trzy najważniejsze programy do wyznaczania MSA to: Clustal, Muscle i T-Coffee. Wskaż główne różnice między tymi programami.\n",
    "* Czy te metody obliczają optymalne MSA? Uzasadnij.\n",
    "* Co oznacza określenie: 'once a gap, always a gap'\n",
    "* Dopasuj oba zbiory \n",
    "e. Align both orthologous protein sets with all three algorithms. Download and hand in all align-\n",
    "ments in ClustalW (default) format. Are there any di\u000berences in the alignments? Why do you\n",
    "see di\u000berences and where or why do you not see any di\u000berences? When do you have to choose\n",
    "your method carefully? (2 points)\n",
    "f. For TGFB1 only, use your computational skills to \fnd out the (1) lengths of the alignments\n",
    "and (2) the degree of conservation detected. For (2) count the number of '*:.' symbols and\n",
    "multiply * by 3, : by 2, and . by 1 and add these scores together to gain one conservation score\n",
    "per alignment. Do not count this by hand because it will take you too long. Please also write\n",
    "the numbers of the individual characters as well as the \fnal conservation score. (2 points)\n",
    "g. In addition to conservation, count the number of proposed insertion or deletion events (called\n",
    "indels) calculated by the di\u000berent alignments. You \fnd indels by looking at the gaps (symbol\n",
    "`-'). Consecutive `-' characters represent either an insertion (nucleotides have been inserted) or\n",
    "a deletion (nucleotides have been deleted). When aligning blocks of gaps (i.e. consecutive `-'\n"
   ]
  },
  {
   "cell_type": "markdown",
   "metadata": {},
   "source": [
    "# 2. Ukryte modele Markova #\n",
    "\n",
    "## Idea ##"
   ]
  },
  {
   "cell_type": "markdown",
   "metadata": {},
   "source": [
    "## Przykład - fair bet casino ##"
   ]
  },
  {
   "cell_type": "markdown",
   "metadata": {},
   "source": [
    "## Przykład RNA ##"
   ]
  },
  {
   "cell_type": "markdown",
   "metadata": {},
   "source": [
    "## Odmiany, implementacje, narzędzia ##"
   ]
  },
  {
   "cell_type": "markdown",
   "metadata": {},
   "source": [
    "### Zadanie 2 ###\n",
    "HMM"
   ]
  },
  {
   "cell_type": "markdown",
   "metadata": {},
   "source": [
    "# 3. Modele kowariancji #\n",
    "\n",
    "Plik z modelami kowariancji znajduje się na serwerze FTP tej bazy pod nazwą Rfam.cm.gz "
   ]
  },
  {
   "cell_type": "markdown",
   "metadata": {},
   "source": [
    "# 4. Stochastyczne gramatyki bezkontekstowe (SCFG) #"
   ]
  },
  {
   "cell_type": "markdown",
   "metadata": {},
   "source": [
    "# 5. Klasyfikacja Rfam #\n",
    "* www: [http://rfam.xfam.org]([http://rfam.xfam.org)\n",
    "* artykuł: [http://nar.oxfordjournals.org/content/43/D1/D130](http://nar.oxfordjournals.org/content/43/D1/D130)\n",
    "* FTP: [ftp://ftp.ebi.ac.uk/pub/databases/Rfam/](ftp://ftp.ebi.ac.uk/pub/databases/Rfam/)\n",
    "\n",
    "Baza rodzin ncRNA.\n",
    "\n",
    "Aktualna werja 12.0 (lipiec 2014) zawiera dane o Rfam 2450 rodzinach.\n",
    "\n",
    "Dla każdej z rodzin dostępne jest przyrównanie wielosekwencyjne (MSA) sekwencji z tej rodziny, konsensusowa struktura drugorzędowa oraz model kowariancji możliwy do wykorzystania przez pakiet Infernal.\n"
   ]
  },
  {
   "cell_type": "markdown",
   "metadata": {},
   "source": [
    "### Zadanie 3 (przeszukiwanie bazy Rfam) ###\n",
    "\n",
    "The Rfam database compiles a comprehensive collection of mainly structural RNAs organized into families. Each family is represented by a well-curated \"seed\" alignment, which forms the basis for profile searches of large sequence databases. The search hits are used to expand the \"seed\" alignments into \"full\" alignments. Here we will explore the information offered by the database.\n",
    "\n",
    "    Go the Rfam database. The information of the database can be browsed in many different ways. We will start by searching the database using a human sequence. Click \"SEQUENCE SEARCH\", read the description of the search, and submit the sequence below:\n",
    "\n",
    "    GGCTGGTCCGAAGGTAGTGAGTTATCTCAATTGATTGTTCACAGTCAGTTACAGATCGAACTCCTTGTTCTACTCTTTCCCCCCTTCTCACTACTGCACTTGACTAGTCTTTT\n",
    "\n",
    "    This should result in hit to a single family.\n",
    "\n",
    "    (i) Click \"show\" to Inspect the alignment. The top line shows the family secondary structure, the second the family consensus sequence, the third shows the positional similarity, and the fourth gives the input sequence. For later reference, the format used is fully described in the Infernal user guide, page 21-22.\n",
    "\n",
    "    (ii) Also note the Bit score and the E-value. Is this a significant hit?\n",
    "\n",
    "    Our sequence hits the Y RNA family. Follow the link to the family home page. Note that various information is available by navigating the menu to the left.\n",
    "\n",
    "    (i) What is known about the function of Y RNAs?\n",
    "\n",
    "    (ii) Navigate to the Secondary structure pages. What part of the structure is the most conserved?\n",
    "\n",
    "    (iii) Navigate to the Species pages and look at the sunburst representation. The outer circle shows the species. Hover your mouse over human to see the number of human hits to the seed covariance model. Why do you think there are so many hits in human.\n",
    "\n",
    "    (iv) Now hover over the different Rodentia species. What could explain the difference in number of hits.\n",
    "\n",
    "    (v) There are many Y RNA pseudogenes in the human genome, which are detected in homology searches. Can you suggest ways to determine if a hit is a pseudogene of real functional family member.\n",
    "\n",
    "    If time permits, navigate to the Alignments. We will try to take a look at the Seed alignment for the family.\n",
    "\n",
    "    (i) Under Formatting options choose: \"Seed\", \"Species labels\", \"Stockholm\" alignment format, and \"view\". Then click \"Generate\".\n",
    "\n",
    "    (ii) Scroll down to the alignment part and identify the secondary structure lines (#=GC SS_cons) and the consensus sequence lines (#=GC RF). "
   ]
  },
  {
   "cell_type": "markdown",
   "metadata": {},
   "source": [
    "# 4. Struktury nieredundantne #\n",
    "\n",
    "## Redundancja sekwencyjna ##"
   ]
  },
  {
   "cell_type": "markdown",
   "metadata": {},
   "source": [
    "### Zadanie ###\n",
    "Zaimplementuj metodę oceniającą, redundancję sekwencyjną dwóch zadanych sekwencji."
   ]
  },
  {
   "cell_type": "markdown",
   "metadata": {},
   "source": [
    "## Redundancja strukturalna ##"
   ]
  },
  {
   "cell_type": "markdown",
   "metadata": {},
   "source": [
    "RNA HUB"
   ]
  },
  {
   "cell_type": "code",
   "execution_count": null,
   "metadata": {},
   "outputs": [],
   "source": [
    ""
   ]
  }
 ],
 "metadata": {
  "kernelspec": {
   "display_name": "Python 3",
   "language": "python",
   "name": "python3"
  },
  "language_info": {
   "codemirror_mode": {
    "name": "ipython",
    "version": 3.0
   },
   "file_extension": ".py",
   "mimetype": "text/x-python",
   "name": "python",
   "nbconvert_exporter": "python",
   "pygments_lexer": "ipython3",
   "version": "3.4.2"
  }
 },
 "nbformat": 4,
 "nbformat_minor": 0
}