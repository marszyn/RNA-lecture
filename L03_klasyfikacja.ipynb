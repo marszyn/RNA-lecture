{
 "cells": [
  {
   "cell_type": "markdown",
   "metadata": {},
   "source": [
    "#### Zajęcia 3, 9.03.2016 ####\n",
    "# Klasyfikacja RNA #\n",
    "\n",
    "## 1. Rodzaje RNA ##"
   ]
  },
  {
   "cell_type": "markdown",
   "metadata": {},
   "source": [
    "### Zadanie 1 (właściwości i rodzaje RNA) ###\n",
    "* Która cząsteczka jest bardziej stabilna: podwójna nić DNA czy podwójna nić RNA? Wyjaśnij.\n",
    "* Wskaż różnice między RNA a DNA.\n",
    "* Wyjaśnij na kilku przykładach znaczenie struktury RNA.\n",
    "* Opisz pierwszorzędową, drugorzędową i trzeciorzędową strukturę RNA.\n",
    "* Wskaż trzy najpopularniejsze pary w drugorzędowej strukturze RNA. Ile wiązań wororowych jest tworzone przez każdą z nich? Uporządkuj je wg stabilności.\n",
    "* Co jest bardziej konserwowane wśród homologicznych RNA: sekwencja czy struktura? Dlaczego?\n",
    "* Wymień podstawowe typy RNA. Scharakteryzuj każdy z nich."
   ]
  },
  {
   "cell_type": "markdown",
   "metadata": {},
   "source": [
    "## 2. Dopasowania wielosekwencyjne ##\n",
    "\n",
    "* prezentacja: [slajdy z wykładu z bioinformatyki](https://ww2.ii.uj.edu.pl/~smietans/intra/bs/Bio-2015-05_MSA.pdf)\n",
    "\n",
    "### Zadanie 2 (MSA) ###\n",
    "* Opisz proces tworzenia dopasowania wielosekwencyjnego\n",
    "* Trzy najważniejsze programy do wyznaczania MSA to: Clustal, Muscle i T-Coffee. Wskaż główne różnice między tymi programami.\n",
    "* Czy te metody obliczają optymalne MSA? Uzasadnij.\n",
    "* Co oznacza określenie: 'once a gap, always a gap'\n",
    "* Dopasuj zadany zbiór sekwencji za pomocą powyższych narzędzi. Wskaż i wyjaśnij różnice w dopasowaniu. [plik do zadania](https://ww2.ii.uj.edu.pl/~smietans/intra/bs/msa.fasta)\n",
    "* Oblicz statystyki dopasowań: długość dopasowań, stopień konserwacji"
   ]
  },
  {
   "cell_type": "markdown",
   "metadata": {},
   "source": [
    "## 3. Ukryte modele Markova ##\n",
    "\n",
    "* Materiały z laboratorium z bioinformatyki (definicja HMM, przykłady): [tutaj](https://ww2.ii.uj.edu.pl/~smietans/intra/bs/Bio-lab_2015-08_Przewidywanie-genow.pdf)"
   ]
  },
  {
   "cell_type": "markdown",
   "metadata": {},
   "source": [
    "## 4. Stochastyczne gramatyki bezkontekstowe (SCFG) ##\n",
    "\n",
    "## 5. Modele kowariancji ##\n",
    "\n",
    "* [Infernal](http://eddylab.org/infernal/)\n",
    "* [prezentaja (po angielsku)](https://ww2.ii.uj.edu.pl/~smietans/intra/bs/Vanbug_february.ppt)\n",
    "* Plik z modelami kowariancji znajduje się na serwerze FTP tej bazy pod nazwą Rfam.cm.gz "
   ]
  },
  {
   "cell_type": "markdown",
   "metadata": {},
   "source": [
    "## 6. Klasyfikacja Rfam ##\n",
    "* www: [http://rfam.xfam.org]([http://rfam.xfam.org)\n",
    "* artykuł: [http://nar.oxfordjournals.org/content/43/D1/D130](http://nar.oxfordjournals.org/content/43/D1/D130)\n",
    "* FTP: [ftp://ftp.ebi.ac.uk/pub/databases/Rfam/](ftp://ftp.ebi.ac.uk/pub/databases/Rfam/)\n",
    "\n",
    "Baza rodzin ncRNA.\n",
    "\n",
    "Aktualna werja 12.0 (lipiec 2014) zawiera dane o Rfam 2450 rodzinach.\n",
    "\n",
    "Dla każdej z rodzin dostępne jest przyrównanie wielosekwencyjne (MSA) sekwencji z tej rodziny, konsensusowa struktura drugorzędowa oraz model kowariancji możliwy do wykorzystania przez pakiet Infernal.\n"
   ]
  },
  {
   "cell_type": "markdown",
   "metadata": {},
   "source": [
    "### Zadanie 3 (przeszukiwanie bazy Rfam) ###\n",
    "\n",
    "1) Wykonaj wyszukiwanie dla sekwencji:\n",
    "\n",
    "GGCTGGTCCGAAGGTAGTGAGTTATCTCAATTGATTGTTCACAGTCAGTTACAGAT\n",
    "CGAACTCCTTGTTCTACTCTTTCCCCCCTTCTCACTACTGCACTTGACTAGTCTTTT\n",
    "\n",
    "Wynik powinien wskazać pojedynczą rodzinę.\n",
    "    \n",
    "* Click \"show\" to Inspect the alignment. The top line shows the family secondary structure,\n",
    "\n",
    " the second the family consensus sequence, the third shows the positional similarity, and\n",
    "\n",
    " the fourth gives the input sequence. For later reference, the format used is fully \n",
    "\n",
    " described in the Infernal user guide, page 21-22.\n",
    "* Also note the Bit score and the E-value. Is this a significant hit?\n",
    "\n",
    "\n",
    "\n",
    "  Our sequence hits the Y RNA family. Follow the link to the family home page. Note that\n",
    " various information is available by navigating the menu to the left.\n",
    "\n",
    "* What is known about the function of Y RNAs?\n",
    "\n",
    "* Navigate to the Secondary structure pages. What part of the structure is the most conserved?\n",
    "\n",
    "* Navigate to the Species pages and look at the sunburst representation. The outer circle\n",
    " shows the species. Hover your mouse over human to see the number of human hits to the seed\n",
    " covariance model. Why do you think there are so many hits in human.\n",
    "\n",
    "* Now hover over the different Rodentia species. What could explain the difference in number\n",
    " of hits.\n",
    "\n",
    "* There are many Y RNA pseudogenes in the human genome, which are detected in homology \n",
    "searches. Can you suggest ways to determine if a hit is a pseudogene of real functional \n",
    "family member.\n",
    "\n",
    "If time permits, navigate to the Alignments. We will try to take a look at the Seed\n",
    " alignment for the family.\n",
    "\n",
    "* Under Formatting options choose: \"Seed\", \"Species labels\", \"Stockholm\" alignment format,\n",
    " and \"view\". Then click \"Generate\".\n",
    "\n",
    "* Scroll down to the alignment part and identify the secondary structure lines \n",
    "(#=GC SS_cons) and the consensus sequence lines (#=GC RF)."
   ]
  },
  {
   "cell_type": "markdown",
   "metadata": {},
   "source": [
    "# 4. Struktury nieredundantne #\n",
    "\n",
    "## Redundancja sekwencyjna ##"
   ]
  },
  {
   "cell_type": "markdown",
   "metadata": {},
   "source": [
    "### Zadanie ###\n",
    "Zaimplementuj metodę oceniającą, redundancję sekwencyjną dwóch zadanych sekwencji."
   ]
  },
  {
   "cell_type": "markdown",
   "metadata": {},
   "source": [
    "## Redundancja strukturalna ##"
   ]
  },
  {
   "cell_type": "markdown",
   "metadata": {},
   "source": [
    "RNA HUB"
   ]
  },
  {
   "cell_type": "code",
   "execution_count": null,
   "metadata": {},
   "outputs": [],
   "source": [
    ""
   ]
  }
 ],
 "metadata": {
  "kernelspec": {
   "display_name": "Python 3",
   "language": "python",
   "name": "python3"
  },
  "language_info": {
   "codemirror_mode": {
    "name": "ipython",
    "version": 3.0
   },
   "file_extension": ".py",
   "mimetype": "text/x-python",
   "name": "python",
   "nbconvert_exporter": "python",
   "pygments_lexer": "ipython3",
   "version": "3.4.2"
  }
 },
 "nbformat": 4,
 "nbformat_minor": 0
}